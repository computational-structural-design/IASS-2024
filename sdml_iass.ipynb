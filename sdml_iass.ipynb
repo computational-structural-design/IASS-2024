{
 "cells": [
  {
   "cell_type": "code",
   "execution_count": null,
   "metadata": {},
   "outputs": [],
   "source": [
    "# Structural Design supported by Machine Learning\n",
    "# Original code developed by Vahid Moosavi (sevamoo@gmail.com) and adapted by Pierluigi D'Acunto (pierluigi.dacunto@tum.de)\n",
    "\n",
    "#If you use the scripts please reference the official GitHub repository:\n",
    "#@Misc{sdml2021,\n",
    "#author = {D'Acunto, Pierluigi and Ohbrock, Patrick Ole and Saldana Ochoa, Karla and Moosavi, Vahid},\n",
    "#title = {{SDML: Structural Design supported by Machine Learning}},\n",
    "#year = {2021},\n",
    "#url = {https://github.com/pierluigidacunto/SDML},\n",
    "#}"
   ]
  },
  {
   "cell_type": "markdown",
   "metadata": {},
   "source": [
    "# Machine Learning-Assisted Computational Structural Design"
   ]
  },
  {
   "cell_type": "markdown",
   "metadata": {},
   "source": [
    "## 0 Environment"
   ]
  },
  {
   "cell_type": "code",
   "execution_count": null,
   "metadata": {
    "scrolled": true
   },
   "outputs": [],
   "source": [
    "!pip install numpy\n",
    "!pip install pandas\n",
    "!pip install scipy\n",
    "!pip install matplotlib\n",
    "!pip install numexpr"
   ]
  },
  {
   "cell_type": "code",
   "execution_count": null,
   "metadata": {},
   "outputs": [],
   "source": [
    "# Import libraries\n",
    "\n",
    "import pandas as pd\n",
    "import numpy as np\n",
    "import sompylib.sompy as SOM\n",
    "import math\n",
    "import pathlib\n",
    "import os\n",
    "import matplotlib.pyplot as plt"
   ]
  },
  {
   "cell_type": "markdown",
   "metadata": {},
   "source": [
    "## 1 Reading CEM data"
   ]
  },
  {
   "cell_type": "markdown",
   "metadata": {},
   "source": [
    "Option 1: Zurich bridge"
   ]
  },
  {
   "cell_type": "code",
   "execution_count": null,
   "metadata": {},
   "outputs": [],
   "source": [
    "# data_file = \"CEM/Data/240806_data_00_CEM.csv\"\n",
    "# graph_file = \"CEM/Data/240806_data_00_branch-node_CEM.csv\""
   ]
  },
  {
   "cell_type": "markdown",
   "metadata": {},
   "source": [
    "Option 2: simple 2D bridge"
   ]
  },
  {
   "cell_type": "code",
   "execution_count": null,
   "metadata": {},
   "outputs": [],
   "source": [
    "data_file = \"CEM/Data/240818_data_simple_CEM.csv\"\n",
    "graph_file = \"CEM/Data/240818_data_simple_branch-node_CEM.csv\""
   ]
  },
  {
   "cell_type": "code",
   "execution_count": null,
   "metadata": {},
   "outputs": [],
   "source": [
    "# Read CSV file and create DataFrame\n",
    "root_path = pathlib.Path().absolute()\n",
    "\n",
    "data = pd.read_csv(\n",
    "    os.path.join(\n",
    "        root_path,\n",
    "        data_file),\n",
    "    header=None)\n",
    "\n",
    "data = data.dropna()\n",
    "data.head(10)  # show first 10 entries of DataFrame"
   ]
  },
  {
   "cell_type": "code",
   "execution_count": null,
   "metadata": {},
   "outputs": [],
   "source": [
    "# Import branch-node matrix\n",
    "graph_edges = pd.read_csv(\n",
    "    os.path.join(\n",
    "        root_path,\n",
    "        graph_file),\n",
    "    header=None)\n",
    "\n",
    "graph_edges.head(10)"
   ]
  },
  {
   "cell_type": "markdown",
   "metadata": {},
   "source": [
    "## 1.1 Data description"
   ]
  },
  {
   "cell_type": "markdown",
   "metadata": {},
   "source": [
    "### Data CSV Option 1: Zurich Bridge\n",
    "\n",
    "| DESCRIPTION | VARIABLE NAME | DIMENSION | SOURCE |\n",
    "| --- | --- | --- | --- |\n",
    "| deviation force at main cable midspan | cable_center_deviation_force | 1 | input |\n",
    "| deviation force at deck midspan | deck_center_deviation_force | 1 | input |\n",
    "| force in hangars | hangar_force | 1 | input |\n",
    "| force in deviations inside deck | deck_deviation_force | 1 | input |\n",
    "| force in deviations between main cables | cable_deviation_force | 1 | input |\n",
    "| force in support towers | tower_force | 1 | input |\n",
    "| force in brace between support towers | tower_brace_force | 1 | input |\n",
    "| rise of the deck | deck_rise | 1 | input\n",
    "| vertical distance between the deck and main cables at midspan | cable_deck_midspan_distance | 1 | input |\n",
    "| offset of tower base location in x direction/perpendicular to the river | tower_base_x_offset | 1 | input |\n",
    "| offset of tower base location in y direction/parallel | tower_base_y_offset | 1 | input |\n",
    "| offset of origin nodes at midspan to create a twist in the bridge | twist_offset | 1 | input |\n",
    "| number of nodes | nN | 1 | output |\n",
    "| number of trail edges | nT | 1 | output |\n",
    "| number of deviation edges | nD | 1 | output |\n",
    "| load X | loadX | 1 | input |\n",
    "| load Y | loadY | 1 | input |\n",
    "| load Z | loadZ | 1 | input |\n",
    "| nodes position X | posX | nN | output |\n",
    "| nodes position Y | posX | nN | output |\n",
    "| nodes position Z | posX | nN | output |\n",
    "| trail lenghts | traLen | nT | output |\n",
    "| trail magnitudes | traMag | nT | output |\n",
    "| deviation lenghts | devLen | nD | output |\n",
    "| deviation magnitudes | devMag | nD | input |\n",
    "| total load path | load_path | 1 | output |\n",
    "| highest inclination of the deck in degrees | maximum deck inclination | 1 | output |"
   ]
  },
  {
   "cell_type": "code",
   "execution_count": null,
   "metadata": {},
   "outputs": [],
   "source": [
    "label_columns_fix_head = [\n",
    "    \"cable_center_deviation_force\",\n",
    "    \"deck_center_deviation_force\",\n",
    "    \"hangar_force\",\n",
    "    \"deck_deviation_force\",\n",
    "    \"cable_deviation_force\",\n",
    "    \"tower_force\",\n",
    "    \"tower_brace_force\",\n",
    "    \"deck_rise\",\n",
    "    \"cable_deck_midspan_distance\",\n",
    "    \"tower_base_x_offset\",\n",
    "    \"tower_base_y_offset\",\n",
    "    \"twist_offset\",\n",
    "    \"nN\",\n",
    "    \"nT\",\n",
    "    \"nD\",\n",
    "    \"loadX\",\n",
    "    \"loadY\",\n",
    "    \"loadZ\"\n",
    "]\n",
    "\n",
    "label_columns_fix_tail = [\n",
    "    \"load_path\",\n",
    "    \"maximum_deck_inclination\"\n",
    "]\n",
    "\n",
    "nX = len(label_columns_fix_head)    # number of fixed entries\n",
    "print('Numer of fixed entries is {0}'.format(nX))"
   ]
  },
  {
   "cell_type": "markdown",
   "metadata": {},
   "source": [
    "### Data CSV Option 2: Simple 2D Bridge\n",
    "\n",
    "| DESCRIPTION | VARIABLE NAME | DIMENSION | SOURCE |\n",
    "| --- | --- | --- | --- |\n",
    "| number of nodes | nN | 1 | fixed |\n",
    "| number of trail edges | nT | 1 | fixed |\n",
    "| number of deviation edges | nD | 1 | fixed |\n",
    "| load X | loadX | 1 | input |\n",
    "| load Y | loadY | 1 | input |\n",
    "| load Z | loadZ | 1 | input |\n",
    "| nodes position X | posX | nN | output |\n",
    "| nodes position Y | posX | nN | output |\n",
    "| nodes position Z | posX | nN | output |\n",
    "| trail lenghts | traLen | nT | output |\n",
    "| trail magnitudes | traMag | nT | output |\n",
    "| deviation lenghts | devLen | nD | output |\n",
    "| deviation magnitudes | devMag | nD | input |\n",
    "| total load path | load_path | 1 | output |\n",
    "| highest inclination of the deck in degrees | maximum deck inclination | 1 | output |"
   ]
  },
  {
   "cell_type": "code",
   "execution_count": null,
   "metadata": {},
   "outputs": [],
   "source": [
    "label_columns_fix_head = [\n",
    "    \"nN\",\n",
    "    \"nT\",\n",
    "    \"nD\",\n",
    "    \"loadX\",\n",
    "    \"loadY\",\n",
    "    \"loadZ\"\n",
    "]\n",
    "\n",
    "label_columns_fix_tail = [\n",
    "]\n",
    "\n",
    "nX = len(label_columns_fix_head)    # number of fixed entries\n",
    "print('Numer of fixed entries is {0}'.format(nX))"
   ]
  },
  {
   "cell_type": "markdown",
   "metadata": {},
   "source": [
    "### Graph CSV\n",
    "| DESCRPTION | VARIABLE | DIMENSION | INDEX | SOURCE |\n",
    "| --- | --- | --- | --- | --- |\n",
    "| edge start | start | nT + nD | even (0, 2, 4, ..., (nT + nD) * 2) | input |\n",
    "| edge end | end | nT + nD | odd (1, 3, 5, ..., (nT + nD) * 2 + 1) | input |"
   ]
  },
  {
   "cell_type": "markdown",
   "metadata": {},
   "source": [
    "Generate labels for columns in DataFrame"
   ]
  },
  {
   "cell_type": "code",
   "execution_count": null,
   "metadata": {},
   "outputs": [],
   "source": [
    "nN = int(data.iloc[0][nX - 6])\n",
    "nT = int(data.iloc[0][nX - 5])\n",
    "nD = int(data.iloc[0][nX - 4])\n",
    "\n",
    "print('Number of Nodes = {0}\\nNumber of Trail Edges = {1}\\nNumber of Deviation Edges = {2}'.format(nN, nT, nD))"
   ]
  },
  {
   "cell_type": "code",
   "execution_count": null,
   "metadata": {},
   "outputs": [],
   "source": [
    "label_columns = label_columns_fix_head[:]\n",
    "label_columns += [\"posX_\" + str(i) for i in range(nN)]\n",
    "label_columns += [\"posY_\" + str(i) for i in range(nN)]\n",
    "label_columns += [\"posZ_\" + str(i) for i in range(nN)]    \n",
    "label_columns += [\"traLen_\" + str(i) for i in range(nT)]\n",
    "label_columns += [\"traMag_\" + str(i) for i in range(nT)]\n",
    "label_columns += [\"devLen_\" + str(i) for i in range(nD)]\n",
    "label_columns += [\"devMag_\" + str(i) for i in range(nD)]\n",
    "label_columns += label_columns_fix_tail\n",
    "\n",
    "data.columns = label_columns\n",
    "data.head(10)"
   ]
  },
  {
   "cell_type": "markdown",
   "metadata": {},
   "source": [
    "## 1.2 Graph Visualiztion"
   ]
  },
  {
   "cell_type": "code",
   "execution_count": null,
   "metadata": {},
   "outputs": [],
   "source": [
    "nE = nT + nD\n",
    "\n",
    "edges = [(int(graph_edges.iloc[0][i * 2]), int(graph_edges.iloc[0][i * 2 + 1])) for i in range(nE)]\n",
    "\n",
    "for i in range(min(10, len(edges))):\n",
    "    print('edge {0}: start node {1}, end node {2}'.format(i, edges[i][0], edges[i][1]))\n",
    "print('...')"
   ]
  },
  {
   "cell_type": "code",
   "execution_count": null,
   "metadata": {},
   "outputs": [],
   "source": [
    "from mpl_toolkits.mplot3d import Axes3D\n",
    "\n",
    "def show_sample(\n",
    "    data_frame, \n",
    "    sample_index, \n",
    "    view='3D-30',\n",
    "    ax = None, \n",
    "    show_title = True,\n",
    "    title = None,\n",
    "    title_size=25):\n",
    "    # array of node xyz coordinates\n",
    "    p0 = nX\n",
    "    p1 = p0 + 3*nN\n",
    "    pos_xyz = data_frame.iloc[sample_index][p0:p1]\n",
    "    \n",
    "    pos_x = pos_xyz[: nN]\n",
    "    pos_y = pos_xyz[nN : 2*nN]\n",
    "    pos_z = pos_xyz[2*nN:]\n",
    "    coords = np.array([pos_x, pos_y, pos_z]).T  \n",
    "    \n",
    "    # array of trail edges    \n",
    "    p0 = p1\n",
    "    p1 = p0 + nT\n",
    "    trail_len = data_frame.iloc[sample_index][p0:p1]\n",
    "    \n",
    "    p0 = p1\n",
    "    p1 = p0 + nT\n",
    "    trail_mag = data_frame.iloc[sample_index][p0:p1]\n",
    "    \n",
    "    # array of deviation edges    \n",
    "    p0 = p1\n",
    "    p1 = p0 + nD\n",
    "    dev_len = data_frame.iloc[sample_index][p0:p1]\n",
    "    \n",
    "    p0 = p1\n",
    "    p1 = p0 + nD\n",
    "    dev_mag = data_frame.iloc[sample_index][p0:p1]\n",
    "\n",
    "    edges_mag = np.concatenate((trail_mag, dev_mag), axis = None)\n",
    "    \n",
    "    if ax is None:\n",
    "        fig = plt.figure(figsize=(10, 10))\n",
    "        ax = fig.add_subplot(111, projection='3d')\n",
    "    \n",
    "    if show_title:\n",
    "        if title is not None:\n",
    "            ax.set_title(title, size=title_size)\n",
    "        else:\n",
    "            ax.set_title('sample {0}'.format(str(data_frame.index[sample_index])), size=title_size)\n",
    "    ax.set_aspect('auto')\n",
    "    ax.axis('off')\n",
    "    \n",
    "    # Set view\n",
    "    ax.set_proj_type('ortho')\n",
    "    \n",
    "    if view == '2D-XY':\n",
    "        ax.view_init(elev=90, azim=-90) # 2D-XY\n",
    "    elif view == '2D-XZ':\n",
    "        ax.view_init(elev=0, azim=-90) # 2D-XZ\n",
    "    elif view == '2D-YZ':\n",
    "        ax.view_init(elev=0, azim=0) # 2D-YZ\n",
    "    elif view == '3D-45':\n",
    "        ax.view_init(elev=45, azim=45) # 3D-45\n",
    "    else:\n",
    "        ax.view_init(elev=30, azim=60) # 3D-30\n",
    "    \n",
    "    # make xyz scale equal\n",
    "    vrange=coords.max(axis=0) - coords.min(axis=0)\n",
    "    vrange=vrange.max()/2\n",
    "    vmean=coords.mean(axis=0)\n",
    "    ax.set_xlim(vmean[0]-vrange,vmean[0]+vrange)\n",
    "    ax.set_ylim(vmean[1]-vrange,vmean[1]+vrange)\n",
    "    ax.set_zlim(vmean[2]-vrange,vmean[2]+vrange)\n",
    "    \n",
    "    for edge, mag in zip(edges, edges_mag):\n",
    "        line_color = (5/256,120/256,190/256) if np.sign(mag) < 0 else (200/256,20/256,20/256)\n",
    "        line_width = 0.3 + np.abs(mag/40)\n",
    "             \n",
    "        ax.plot(coords[edge,0], \n",
    "                coords[edge,1],\n",
    "                coords[edge,2], \n",
    "                color = line_color, \n",
    "                linewidth = line_width, \n",
    "                antialiased=True, \n",
    "                alpha = 1.0)"
   ]
  },
  {
   "cell_type": "code",
   "execution_count": null,
   "metadata": {},
   "outputs": [],
   "source": [
    "show_sample(data, 1, '2D-XZ')\n",
    "plt.show()"
   ]
  },
  {
   "cell_type": "markdown",
   "metadata": {},
   "source": [
    "## 2. Compute Feature Vectors"
   ]
  },
  {
   "cell_type": "markdown",
   "metadata": {},
   "source": [
    "We pre-calculate high-order statistics (Min, Max, Mean, Standard Deviation, Skewness, Kurtosis) per type (Floor Height, Node, Trail, Deviation)"
   ]
  },
  {
   "cell_type": "code",
   "execution_count": null,
   "metadata": {},
   "outputs": [],
   "source": [
    "from numpy import mean\n",
    "from numpy import std\n",
    "from scipy.stats import skew\n",
    "from scipy.stats import kurtosis\n",
    "\n",
    "# Convert initial DataFrame to Numpy 2D array\n",
    "src_data = data.values[:]\n",
    "\n",
    "# Initialize list of list where initial variable features are replaced by their corresponding statistics\n",
    "data_arr2d = []\n",
    "\n",
    "# Iterate through each row of the array (i.e. each row of the DataFrame)\n",
    "for i in range(len(src_data)): \n",
    "    src_row = src_data[i]\n",
    "    # Calculate statistics per feature    \n",
    "    p0 = nX\n",
    "    p1 = p0 + nN\n",
    "    posX_arr = src_row[p0:p1]\n",
    "    posX_min = posX_arr.min()\n",
    "    posX_max = posX_arr.max()\n",
    "    posX_mean = mean(posX_arr)\n",
    "    posX_std = std(posX_arr)\n",
    "    posX_skew = skew(posX_arr)\n",
    "    posX_kurt = kurtosis(posX_arr)\n",
    "\n",
    "    p0 = p1\n",
    "    p1 = p0 + nN\n",
    "    posY_arr = src_row[p0:p1]\n",
    "    posY_min = posY_arr.min()\n",
    "    posY_max = posY_arr.max()\n",
    "    posY_mean = mean(posY_arr)\n",
    "    posY_std = std(posY_arr)\n",
    "    posY_skew = skew(posY_arr)\n",
    "    posY_kurt = kurtosis(posY_arr)    \n",
    "\n",
    "    p0 = p1\n",
    "    p1 = p0 + nN\n",
    "    posZ_arr = src_row[p0:p1]\n",
    "    posZ_min = posZ_arr.min()\n",
    "    posZ_max = posZ_arr.max()\n",
    "    posZ_mean = mean(posZ_arr)\n",
    "    posZ_std = std(posZ_arr)\n",
    "    posZ_skew = skew(posZ_arr)\n",
    "    posZ_kurt = kurtosis(posZ_arr)\n",
    "\n",
    "    p0 = p1\n",
    "    p1 = p0 + nT\n",
    "    traLen_arr = src_row[p0:p1]\n",
    "    traLen_min = traLen_arr.min()\n",
    "    traLen_max = traLen_arr.max()\n",
    "    traLen_mean = mean(traLen_arr)\n",
    "    traLen_std = std(traLen_arr)\n",
    "    traLen_skew = skew(traLen_arr)\n",
    "    traLen_kurt = kurtosis(traLen_arr) \n",
    "           \n",
    "    p0 = p1\n",
    "    p1 = p0 + nT\n",
    "    traMag_arr = src_row[p0:p1]\n",
    "    traMag_min = traMag_arr.min()\n",
    "    traMag_max = traMag_arr.max()\n",
    "    traMag_mean = mean(traMag_arr)\n",
    "    traMag_std = std(traMag_arr)\n",
    "    traMag_skew = skew(traMag_arr)\n",
    "    traMag_kurt = kurtosis(traMag_arr)\n",
    "    \n",
    "    p0 = p1\n",
    "    p1 = p0 + nD\n",
    "    devLen_arr = src_row[p0:p1]\n",
    "    devLen_min = devLen_arr.min()\n",
    "    devLen_max = devLen_arr.max()\n",
    "    devLen_mean = mean(devLen_arr)\n",
    "    devLen_std = std(devLen_arr)\n",
    "    devLen_skew = skew(devLen_arr)\n",
    "    devLen_kurt = kurtosis(devLen_arr) \n",
    "           \n",
    "    p0 = p1\n",
    "    p1 = p0 + nD\n",
    "    devMag_arr = src_row[p0:p1]\n",
    "    devMag_min = devMag_arr.min()\n",
    "    devMag_max = devMag_arr.max()\n",
    "    devMag_mean = mean(devMag_arr)\n",
    "    devMag_std = std(devMag_arr)\n",
    "    devMag_skew = skew(devMag_arr)\n",
    "    devMag_kurt = kurtosis(devMag_arr)\n",
    "\n",
    "    # Assemble flattened features in an array\n",
    "    data_arr = [\n",
    "                posX_min, posX_max, posX_mean, posX_std, posX_skew, posX_kurt,\n",
    "                posY_min, posY_max, posY_mean, posY_std, posY_skew, posY_kurt,\n",
    "                posZ_min, posZ_max, posZ_mean, posZ_std, posZ_skew, posZ_kurt,\n",
    "                traLen_min, traLen_max, traLen_mean, traLen_std, traLen_skew, traLen_kurt,\n",
    "                traMag_min, traMag_max, traMag_mean, traMag_std, traMag_skew, traMag_kurt,\n",
    "                devLen_min, devLen_max, devLen_mean, devLen_std, devLen_skew, devLen_kurt,\n",
    "                devMag_min, devMag_max, devMag_mean, devMag_std, devMag_skew, devMag_kurt,\n",
    "                ]\n",
    "    \n",
    "    data_arr2d.append(data_arr)"
   ]
  },
  {
   "cell_type": "code",
   "execution_count": null,
   "metadata": {},
   "outputs": [],
   "source": [
    "# Convert list of list into DataFrame\n",
    "data_hos = pd.DataFrame.from_records(data_arr2d)\n",
    "data_hos.index = data.index\n",
    "\n",
    "label_columns = [\n",
    "                \"posX_min\", \"posX_max\", \"posX_mean\", \"posX_std\", \"posX_skew\", \"posX_kurt\",\n",
    "                \"posY_min\", \"posY_max\", \"posY_mean\", \"posY_std\", \"posY_skew\", \"posY_kurt\",\n",
    "                \"posZ_min\", \"posZ_max\", \"posZ_mean\", \"posZ_std\", \"posZ_skew\", \"posZ_kurt\",\n",
    "                \"traLen_min\", \"traLen_max\", \"traLen_mean\", \"traLen_std\", \"traLen_skew\", \"traLen_kurt\",\n",
    "                \"traMag_min\", \"traMag_max\", \"traMag_mean\", \"traMag_std\", \"traMag_skew\", \"traMag_kurt\",\n",
    "                \"devLen_min\", \"devLen_max\", \"devLen_mean\", \"devLen_std\", \"devLen_skew\", \"devLen_kurt\",\n",
    "                \"devMag_min\", \"devMag_max\", \"devMag_mean\", \"devMag_std\", \"devMag_skew\", \"devMag_kurt\",\n",
    "                ]\n",
    "\n",
    "data_hos.columns = label_columns\n",
    "data_hos.head(10)"
   ]
  },
  {
   "cell_type": "code",
   "execution_count": null,
   "metadata": {},
   "outputs": [],
   "source": [
    "# merge the HOS data with other fixed-length data in the source data frame\n",
    "\n",
    "data_hos = pd.concat(\n",
    "    [\n",
    "        data[label_columns_fix_head], \n",
    "        data_hos, \n",
    "        data[label_columns_fix_tail]\n",
    "    ],\n",
    "    axis=1)\n",
    "\n",
    "data_hos.head(10)"
   ]
  },
  {
   "cell_type": "markdown",
   "metadata": {},
   "source": [
    "## 2.1 Filter Data"
   ]
  },
  {
   "cell_type": "code",
   "execution_count": null,
   "metadata": {},
   "outputs": [],
   "source": [
    "# Filter DataFrame 1\n",
    "\n",
    "traMag_max_mask = abs(data_hos['traLen_max']) < abs(data_hos['traLen_max']).quantile(0.9)\n",
    "data_hos_filter = data_hos[traMag_max_mask].copy()\n",
    "\n",
    "data_hos_filter.shape"
   ]
  },
  {
   "cell_type": "code",
   "execution_count": null,
   "metadata": {},
   "outputs": [],
   "source": [
    "# Filter DataFrame 2\n",
    "\n",
    "devLen_min_mask = abs(data_hos_filter['devLen_min']) > abs(data_hos_filter['devLen_min']).quantile(.1)\n",
    "data_hos_filter = data_hos_filter[devLen_min_mask].copy()\n",
    "\n",
    "data_hos_filter.shape"
   ]
  },
  {
   "cell_type": "markdown",
   "metadata": {},
   "source": [
    "For Zurich Bridge only"
   ]
  },
  {
   "cell_type": "code",
   "execution_count": null,
   "metadata": {},
   "outputs": [],
   "source": [
    "# # Filter DataFrame 3\n",
    "# totLP_mask = abs(data_hos_filter['load_path']) < abs(data_hos_filter['load_path']).quantile(.9)\n",
    "# data_hos_filter = data_hos_filter[totLP_mask].copy()\n",
    "\n",
    "# data_hos_filter.shape"
   ]
  },
  {
   "cell_type": "code",
   "execution_count": null,
   "metadata": {},
   "outputs": [],
   "source": [
    "# Update initial DataFrame in compliance with previous filtering on flat DataFrame\n",
    "data_filter = data[data.index.isin(data_hos_filter.index)]\n",
    "data_filter.head(10)"
   ]
  },
  {
   "cell_type": "markdown",
   "metadata": {},
   "source": [
    "## 2.2 Feature Vector for SOM"
   ]
  },
  {
   "cell_type": "code",
   "execution_count": null,
   "metadata": {},
   "outputs": [],
   "source": [
    "# Select features for SOM training\n",
    "\n",
    "SOM_features = [\n",
    "#     'maximum_deck_inclination',\n",
    "#     'load_path',\n",
    "#     'posX_min',\n",
    "#     'posX_max',    \n",
    "    'posX_mean', \n",
    "    'posX_std', \n",
    "    'posX_skew', \n",
    "    'posX_kurt', \n",
    "#     'posY_min',\n",
    "#     'posY_max',    \n",
    "#     'posY_mean', \n",
    "#     'posY_std', \n",
    "#     'posY_skew', \n",
    "#     'posY_kurt',\n",
    "#     'posZ_min',\n",
    "#     'posZ_max',  \n",
    "    'posZ_mean',\n",
    "    'posZ_std', \n",
    "    'posZ_skew', \n",
    "    'posZ_kurt',\n",
    "#     'traLen_min',    \n",
    "#     'traLen_max',    \n",
    "    'traLen_mean',\n",
    "    'traLen_std', \n",
    "    'traLen_skew', \n",
    "#     'traLen_kurt', \n",
    "#     'traMag_min',    \n",
    "#     'traMag_max',    \n",
    "#     'traMag_mean',\n",
    "#     'traMag_std', \n",
    "#     'traMag_skew', \n",
    "#     'traMag_kurt',\n",
    "#     'devLen_min',    \n",
    "#     'devLen_max',    \n",
    "#     'devLen_mean',\n",
    "#     'devLen_std', \n",
    "#     'devLen_skew', \n",
    "#     'devLen_kurt', \n",
    "#     'devMag_min',    \n",
    "#     'devMag_max',    \n",
    "    'devMag_mean',\n",
    "    'devMag_std', \n",
    "    'devMag_skew', \n",
    "#     'devMag_kurt'\n",
    "    ]\n",
    "\n",
    "# Create matrix of selected features\n",
    "features_arr = data_hos_filter[SOM_features].values[:].astype(float)\n",
    "features_arr.shape"
   ]
  },
  {
   "cell_type": "markdown",
   "metadata": {},
   "source": [
    "## 3 Train the SOM"
   ]
  },
  {
   "cell_type": "code",
   "execution_count": null,
   "metadata": {},
   "outputs": [],
   "source": [
    "# Calculate SOM\n",
    "\n",
    "ncols = 10    # define number of SOM-nodes in X directions\n",
    "nrows = 10    # define number of SOM-nodes in Y directions\n",
    "mapsize = (nrows, ncols)\n",
    "\n",
    "som = SOM.SOM(\n",
    "    '',\n",
    "    features_arr,\n",
    "    mapsize = mapsize,\n",
    "    norm_method = 'var',\n",
    "    initmethod = 'pca')\n",
    "\n",
    "# feature name for plotting\n",
    "som.compname = [SOM_features]\n",
    "som.train(n_job = 1, shared_memory = 'no',verbose = 'on')"
   ]
  },
  {
   "cell_type": "markdown",
   "metadata": {},
   "source": [
    "### 3.1 Best matching units (BMUs)"
   ]
  },
  {
   "cell_type": "code",
   "execution_count": null,
   "metadata": {},
   "outputs": [],
   "source": [
    "# Get distance/s and Best Matching Unit (BMU)/s indices for each sample\n",
    "dists, bmus = som.find_K_nodes(som.data_raw, K=1)\n",
    "\n",
    "for i in range(min(10, len(bmus))):\n",
    "    print(\"sample {0}'s BMU is {1}\".format(i, bmus[i, 0]))"
   ]
  },
  {
   "cell_type": "code",
   "execution_count": null,
   "metadata": {},
   "outputs": [],
   "source": [
    "# Get representative samples per SOM-nodes (samples that are closer to their corresponding BMUs)\n",
    "cell_sample_index = []\n",
    "\n",
    "for i in range(som.nnodes):\n",
    "    # Get all samples per SOM-node\n",
    "    samples_index = np.argwhere(bmus==i)[:,0]\n",
    "\n",
    "    if len(samples_index) > 0:\n",
    "        # Sort samples according to distance within each BMU cluster\n",
    "        samples_dist = dists[samples_index][:,0]\n",
    "        indices = np.argsort(samples_dist, axis=-1)\n",
    "        cell_sample_index.append(samples_index[indices[0]]) # representative sample for SOM-node\n",
    "    else:\n",
    "        cell_sample_index.append(-1)\n",
    "        \n",
    "for i in range(min(10, len(cell_sample_index))):\n",
    "    print('cell {0}\\'s representative sample is {1}'.format(i, cell_sample_index[i]))\n",
    "print('...')"
   ]
  },
  {
   "cell_type": "markdown",
   "metadata": {},
   "source": [
    "### 3.2 Visualize SOM as a grid"
   ]
  },
  {
   "cell_type": "code",
   "execution_count": null,
   "metadata": {},
   "outputs": [],
   "source": [
    "def show_som(som, cell_sample_index, nrows, ncols):\n",
    "    fig = plt.figure(figsize=(2*ncols,2*nrows))\n",
    "    gs = fig.add_gridspec(nrows, ncols)\n",
    "    gs.update(wspace=0.0, hspace=0.0)\n",
    "\n",
    "    for i in range(som.nnodes):\n",
    "        row = i // ncols\n",
    "        col = i % ncols\n",
    "\n",
    "        f = cell_sample_index[i]    # representative sample f\n",
    "\n",
    "        if f > -1:              \n",
    "            ax = fig.add_subplot(gs[row,col], projection='3d')\n",
    "            show_sample(\n",
    "                data_filter,\n",
    "                f, \n",
    "                '2D-XZ', \n",
    "                ax, \n",
    "                show_title = True, \n",
    "                title = 'cell {0}'.format(i),\n",
    "                title_size = 8)\n",
    "    plt.show()"
   ]
  },
  {
   "cell_type": "code",
   "execution_count": null,
   "metadata": {},
   "outputs": [],
   "source": [
    "show_som(som, cell_sample_index, nrows, ncols)"
   ]
  },
  {
   "cell_type": "code",
   "execution_count": null,
   "metadata": {},
   "outputs": [],
   "source": [
    "if features_arr.shape[1] > 100:\n",
    "    pass\n",
    "else:\n",
    "    som.view_map(text_size=9)"
   ]
  },
  {
   "cell_type": "markdown",
   "metadata": {},
   "source": [
    "### 3.3 Visualize SOM cells"
   ]
  },
  {
   "cell_type": "code",
   "execution_count": null,
   "metadata": {},
   "outputs": [],
   "source": [
    "def show_node(cell_index, *col_names):\n",
    "    # Get all samples in selected SOM cell\n",
    "    indices = np.argwhere(bmus==cell_index)[:,0]\n",
    "    \n",
    "    # Number of samples in selected SOM cell\n",
    "    K = len(indices) \n",
    "    print('number samples: ', K)\n",
    "    \n",
    "    ncols = min(5, K)\n",
    "    nrows = max(1, int(math.ceil(K / ncols)))\n",
    "        \n",
    "    if K >= 1:\n",
    "        fig = plt.figure(figsize=(4*ncols,4*nrows))\n",
    "        gs = fig.add_gridspec(nrows, ncols)\n",
    "        gs.update(wspace=0.0, hspace=0.0)\n",
    "\n",
    "        for i in range(K):\n",
    "            row = i // ncols\n",
    "            col = i % ncols\n",
    "            f = indices[i]    # representative sample f\n",
    "\n",
    "            if f > -1:              \n",
    "                ax = fig.add_subplot(gs[row,col], projection='3d')\n",
    "                \n",
    "                title = []\n",
    "                if len(col_names)>0:\n",
    "                    title = ['{0}: {1:.2f}'.format(col, data_hos_filter.iloc[f][col]) for col in col_names]\n",
    "                \n",
    "                title = '\\n'.join(['sample {0}'.format(data_filter.index[f])] + title)\n",
    "                    \n",
    "                show_sample(\n",
    "                    data_filter,\n",
    "                    f, \n",
    "                    '2D-XZ', \n",
    "                    ax, \n",
    "                    show_title = title,\n",
    "                    title = title, title_size=8)\n",
    "                \n",
    "        plt.show()\n",
    "    else:\n",
    "        print ('not enough data for this node')"
   ]
  },
  {
   "cell_type": "code",
   "execution_count": null,
   "metadata": {},
   "outputs": [],
   "source": [
    "show_node(0, 'devLen_mean', 'traLen_mean')"
   ]
  },
  {
   "cell_type": "code",
   "execution_count": null,
   "metadata": {},
   "outputs": [],
   "source": [
    "show_node(7, 'devLen_mean', 'traLen_mean')"
   ]
  },
  {
   "cell_type": "code",
   "execution_count": null,
   "metadata": {},
   "outputs": [],
   "source": [
    "show_node(35, 'devLen_mean', 'traLen_mean')"
   ]
  },
  {
   "cell_type": "code",
   "execution_count": null,
   "metadata": {},
   "outputs": [],
   "source": [
    "show_node(42, 'devLen_mean', 'traLen_mean')"
   ]
  },
  {
   "cell_type": "code",
   "execution_count": null,
   "metadata": {},
   "outputs": [],
   "source": [
    "show_node(80, 'devLen_mean', 'traLen_mean')"
   ]
  },
  {
   "cell_type": "code",
   "execution_count": null,
   "metadata": {},
   "outputs": [],
   "source": []
  }
 ],
 "metadata": {
  "kernelspec": {
   "display_name": "Python 3",
   "language": "python",
   "name": "python3"
  },
  "language_info": {
   "codemirror_mode": {
    "name": "ipython",
    "version": 3
   },
   "file_extension": ".py",
   "mimetype": "text/x-python",
   "name": "python",
   "nbconvert_exporter": "python",
   "pygments_lexer": "ipython3",
   "version": "3.7.4"
  }
 },
 "nbformat": 4,
 "nbformat_minor": 4
}
